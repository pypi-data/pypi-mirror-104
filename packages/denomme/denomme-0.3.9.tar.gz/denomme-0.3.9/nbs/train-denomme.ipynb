{
 "cells": [
  {
   "cell_type": "markdown",
   "metadata": {},
   "source": [
    "<a href=\"https://colab.research.google.com/github/meghanabhange/denomme/blob/multi-lingual-name/nbs/train-denomme.ipynb\" target=\"_parent\"><img src=\"https://colab.research.google.com/assets/colab-badge.svg\" alt=\"Open In Colab\"/></a>"
   ]
  },
  {
   "cell_type": "markdown",
   "metadata": {},
   "source": [
    "# I. Installation and Unzip"
   ]
  },
  {
   "cell_type": "code",
   "execution_count": null,
   "metadata": {},
   "outputs": [],
   "source": [
    "!pip install spacy --upgrade\n",
    "!pip install fire\n",
    "!pip install spacy_transformers\n",
    "!pip install transformers[sentencepiece]"
   ]
  },
  {
   "cell_type": "code",
   "execution_count": null,
   "metadata": {},
   "outputs": [],
   "source": [
    "!git clone https://github.com/meghanabhange/denomme.git\n",
    "%cd denomme\n",
    "# !git checkout multi-lingual-name"
   ]
  },
  {
   "cell_type": "markdown",
   "metadata": {},
   "source": [
    "## Copy your assets folder here. \n",
    "---\n",
    "### Expected dir structure for assets: \n",
    "```\n",
    "denomme\n",
    "└───assets\n",
    "│   │   train.json\n",
    "│   │   dev.json\n",
    "│   │\n",
    "│   └───raw\n",
    "│   │   │   data.txt\n",
    "│   │   │   more_data.txt\n",
    "│   │   │   ...\n",
    "│   └───processed\n",
    "│       │   data.json\n",
    "│       │   more_data.json\n",
    "│       │   ...\n",
    "│   \n",
    "└─── ...\n",
    "```\n",
    "---\n",
    "Raw files to processed can be converted into expected format by using `scripts/convert_to_spacy` then create a suitable split into `train.json` and `dev.json` to use \n",
    "\n",
    "More details in section `II. Data conversion` "
   ]
  },
  {
   "cell_type": "code",
   "execution_count": null,
   "metadata": {},
   "outputs": [],
   "source": [
    "!cp -r ../drive/MyDrive/denomme/assets . "
   ]
  },
  {
   "cell_type": "markdown",
   "metadata": {},
   "source": [
    "# II. Data conversion\n",
    "\n",
    "Expected data format : `.txt` files in dir \n",
    "\n",
    "- `S-PER` - Single person name without last name or middle name\n",
    "- `B-PER` - Beginning of person name in multi-word name\n",
    "- `I-PER` - Middle name(s) can be multiple including initials\n",
    "- `E-PER` - End of person name\n",
    "- `O` - Everything else \n",
    "\n",
    "---\n",
    "\n",
    "### Example : \n",
    "\n",
    "```\n",
    "two O\n",
    "characters O\n",
    "are O\n",
    "named O\n",
    "Dixon B-PER\n",
    "R. I-PER\n",
    "L. I-PER\n",
    "Stien E-PER\n",
    "and O\n",
    "Winterburn S-PER\n",
    "-- O\n",
    "```"
   ]
  },
  {
   "cell_type": "code",
   "execution_count": null,
   "metadata": {},
   "outputs": [],
   "source": [
    "!python -m scripts.convert_to_spacy --modified_ner_dir raw --out_dir processed"
   ]
  },
  {
   "cell_type": "markdown",
   "metadata": {},
   "source": [
    "# III. Train with transformers"
   ]
  },
  {
   "cell_type": "code",
   "execution_count": null,
   "metadata": {},
   "outputs": [],
   "source": [
    "!python -m spacy project run train-denomme"
   ]
  },
  {
   "cell_type": "markdown",
   "metadata": {},
   "source": [
    "# IV. Upload to AWS [optional]"
   ]
  },
  {
   "cell_type": "code",
   "execution_count": null,
   "metadata": {},
   "outputs": [],
   "source": [
    "# %cd /content/denomme/packages/xx_denomme-0.3.1\n",
    "# !python setup.py sdist\n",
    "# %cd /content/denomme"
   ]
  },
  {
   "cell_type": "code",
   "execution_count": null,
   "metadata": {},
   "outputs": [],
   "source": [
    "# !curl \"https://awscli.amazonaws.com/awscli-exe-linux-x86_64.zip\" -o \"awscliv2.zip\"\n",
    "# !unzip awscliv2.zip\n",
    "# !sudo ./aws/install\n",
    "# !aws configure"
   ]
  },
  {
   "cell_type": "code",
   "execution_count": null,
   "metadata": {},
   "outputs": [],
   "source": [
    "# !aws s3 cp /content/denomme/packages/xx_denomme-0.3.1/dist/xx_denomme-0.3.1.tar.gz s3://denomme/xx_denomme-0.3.1/dist/"
   ]
  },
  {
   "cell_type": "markdown",
   "metadata": {},
   "source": [
    "# V. Testing out the model"
   ]
  },
  {
   "cell_type": "code",
   "execution_count": null,
   "metadata": {},
   "outputs": [],
   "source": [
    "!pip install https://denomme.s3.us-east-2.amazonaws.com/xx_denomme-0.3.1/dist/xx_denomme-0.3.1.tar.gz"
   ]
  },
  {
   "cell_type": "code",
   "execution_count": null,
   "metadata": {},
   "outputs": [],
   "source": [
    "import spacy\n",
    "from tqdm import tqdm\n",
    "from spacy.lang.xx import MultiLanguage\n",
    "from denomme import denomme_component\n",
    "from spacy import displacy\n",
    "tqdm.pandas()"
   ]
  },
  {
   "cell_type": "code",
   "execution_count": null,
   "metadata": {},
   "outputs": [],
   "source": [
    "nlp = MultiLanguage()\n",
    "nlp.add_pipe(\"denomme\")\n",
    "doc = nlp(\"Hi my name is Meghana S.R Bhange and I want to talk Asha\")\n",
    "print(doc._.person_name)"
   ]
  },
  {
   "cell_type": "code",
   "execution_count": null,
   "metadata": {},
   "outputs": [],
   "source": [
    "%timeit doc = nlp(\"My name is Ketaki S.R Ambadkar\"); doc.ents"
   ]
  },
  {
   "cell_type": "code",
   "execution_count": null,
   "metadata": {},
   "outputs": [],
   "source": [
    "%timeit doc = nlp(\"في 9 مايو 2006 , تم افتتاح ملعب جديد في مدينة ريال مدريد الرياضية وتم تسميته بأحد أهم اللاعبين الذي سطروا أسمائهم بأحرف من ذهب في تاريخ ريال مدريد وهو ألفريدو دي ستيفانو .\"); doc.ents"
   ]
  },
  {
   "cell_type": "code",
   "execution_count": null,
   "metadata": {},
   "outputs": [],
   "source": [
    "def get_ents(doc):\n",
    "  ents = [\n",
    "        {\n",
    "            \"start\":doc.text.find(name.text),\n",
    "            \"end\" : doc.text.find(name.text)+len(name.text),\n",
    "            \"label\": name.label_\n",
    "        }\n",
    "        for name in doc._.person_name\n",
    "        ]\n",
    "  ex = [{\"text\": doc.text,\n",
    "        \"ents\": ents,\n",
    "        \"title\": \"Denomme : Name Detection\"}]\n",
    "  return ex"
   ]
  },
  {
   "cell_type": "code",
   "execution_count": null,
   "metadata": {},
   "outputs": [],
   "source": [
    "doc = nlp(\"Hi , I my name is Meghana S.R Bhange, I want to book an appointment for Ketaki and also Dr. S Kumar\")\n",
    "ex = get_ents(doc)\n",
    "displacy.render(ex, style=\"ent\", manual=True, jupyter=True)"
   ]
  },
  {
   "cell_type": "code",
   "execution_count": null,
   "metadata": {},
   "outputs": [],
   "source": [
    "doc = nlp(\"في 9 مايو 2006 , تم افتتاح ملعب جديد في مدينة ريال مدريد الرياضية وتم تسميته بأحد أهم اللاعبين الذي سطروا أسمائهم بأحرف من ذهب في تاريخ ريال مدريد وهو ألفريدو دي ستيفانو .\")\n",
    "ex = get_ents(doc)\n",
    "displacy.render(ex, style=\"ent\", manual=True, jupyter=True)"
   ]
  },
  {
   "cell_type": "markdown",
   "metadata": {},
   "source": [
    "# Checking Metrics"
   ]
  },
  {
   "cell_type": "code",
   "execution_count": null,
   "metadata": {},
   "outputs": [],
   "source": [
    "from sklearn.metrics import accuracy_score\n",
    "from sklearn.metrics import precision_score, f1_score, recall_score\n",
    "from sklearn.metrics import roc_auc_score\n",
    "import pandas as pd"
   ]
  },
  {
   "cell_type": "code",
   "execution_count": null,
   "metadata": {},
   "outputs": [],
   "source": [
    "test_set_1 = pd.read_csv(\"assets/01_test_set.csv\")\n",
    "test_set_2 = pd.read_csv(\"assets/02_test_set.csv\")"
   ]
  },
  {
   "cell_type": "code",
   "execution_count": null,
   "metadata": {},
   "outputs": [],
   "source": [
    "def predict_names(sent):\n",
    "  doc = nlp(sent.lower())\n",
    "  names = [name.text for name in doc._.person_name]\n",
    "  if names:\n",
    "    return names[0].lower()\n",
    "  return \"\"\n",
    "  \n",
    "def metrics(df):\n",
    "  metrics = {\n",
    "      \"Namignizer\" : {},\n",
    "      \"Denomme\" : {}\n",
    "  }\n",
    "  df[\"Denomme\"] = df[\"Input\"].progress_apply(predict_names)\n",
    "  df.fillna(\"\", inplace=True)\n",
    "  metrics[\"Namignizer\"][\"Accuracy Score\"] = accuracy_score(df[\"Namignizer\"], df[\"Name\"])\n",
    "  metrics[\"Denomme\"][\"Accuracy Score\"] = accuracy_score(df[\"Denomme\"], df[\"Name\"])\n",
    "\n",
    "  metrics[\"Namignizer\"][\"f1_score Macro\"] = f1_score(df[\"Namignizer\"], df[\"Name\"],  average='macro')\n",
    "  metrics[\"Denomme\"][\"f1_score Macro\"] = f1_score(df[\"Denomme\"], df[\"Name\"],  average='macro')\n",
    "\n",
    "  metrics[\"Namignizer\"][\"precision_score Macro\"] = precision_score(df[\"Namignizer\"], df[\"Name\"],  average='macro')\n",
    "  metrics[\"Denomme\"][\"precision_score Macro\"] = precision_score(df[\"Denomme\"], df[\"Name\"],  average='macro')\n",
    "\n",
    "  metrics[\"Namignizer\"][\"recall_score Macro\"] = recall_score(df[\"Namignizer\"], df[\"Name\"],  average='macro')\n",
    "  metrics[\"Denomme\"][\"recall_score Macro\"] = recall_score(df[\"Denomme\"], df[\"Name\"],  average='macro')\n",
    "\n",
    "  # metrics[\"Namignizer\"][\"roc_auc_score Macro\"] = roc_auc_score(df[\"Namignizer\"], df[\"Name\"],  average='macro')\n",
    "  # metrics[\"Denomme\"][\"roc_auc_score Macro\"] = roc_auc_score(df[\"Denomme\"], df[\"Name\"],  multi_class='ovr')\n",
    "  return metrics\n",
    "  "
   ]
  },
  {
   "cell_type": "code",
   "execution_count": null,
   "metadata": {},
   "outputs": [],
   "source": [
    "metrics(test_set_1)"
   ]
  },
  {
   "cell_type": "code",
   "execution_count": null,
   "metadata": {},
   "outputs": [],
   "source": [
    "metrics(test_set_2)"
   ]
  }
 ],
 "metadata": {
  "kernelspec": {
   "display_name": "Python 3",
   "name": "python3"
  }
 },
 "nbformat": 4,
 "nbformat_minor": 0
}
