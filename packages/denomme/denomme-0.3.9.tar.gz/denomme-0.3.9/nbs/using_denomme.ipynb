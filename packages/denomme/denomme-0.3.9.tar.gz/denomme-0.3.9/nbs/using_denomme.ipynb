{
 "cells": [
  {
   "cell_type": "markdown",
   "metadata": {},
   "source": [
    "<a href=\"https://colab.research.google.com/github/meghanabhange/denomme/blob/multi-lingual-name/nbs/using_denomme.ipynb\" target=\"_parent\"><img src=\"https://colab.research.google.com/assets/colab-badge.svg\" alt=\"Open In Colab\"/></a>"
   ]
  },
  {
   "cell_type": "markdown",
   "metadata": {},
   "source": [
    "# Installtion and Unzip"
   ]
  },
  {
   "cell_type": "code",
   "execution_count": null,
   "metadata": {},
   "outputs": [],
   "source": [
    "!pip install fire\n",
    "!pip install spacy_transformers\n",
    "!transformers[sentencepiece]"
   ]
  },
  {
   "cell_type": "code",
   "execution_count": null,
   "metadata": {},
   "outputs": [],
   "source": [
    "!git clone https://github.com/meghanabhange/denomme.git\n",
    "%cd denomme\n",
    "!git checkout multi-lingual-name"
   ]
  },
  {
   "cell_type": "code",
   "execution_count": null,
   "metadata": {},
   "outputs": [],
   "source": [
    "!curl https://denomme.s3.us-east-2.amazonaws.com/en_denomme-0.3.0/dist/en_denomme-0.3.0.tar.gz --output en_denomme-0.3.0.tar.gz"
   ]
  },
  {
   "cell_type": "markdown",
   "metadata": {},
   "source": [
    "# Testing out the model"
   ]
  },
  {
   "cell_type": "code",
   "execution_count": null,
   "metadata": {},
   "outputs": [],
   "source": [
    "import spacy\n",
    "from denomme import denomme_component\n",
    "from spacy.language import Language\n",
    "from tqdm import tqdm\n",
    "tqdm.pandas()"
   ]
  },
  {
   "cell_type": "code",
   "execution_count": null,
   "metadata": {},
   "outputs": [],
   "source": [
    "nlp = spacy.load(\"en_core_web_lg\")\n",
    "nlp.add_pipe(\"denomme\")"
   ]
  },
  {
   "cell_type": "code",
   "execution_count": null,
   "metadata": {},
   "outputs": [],
   "source": [
    "doc = nlp(\"My name is Meghanana S.R Bhange and I want to book appointment for ketaki who is in London, UK\")\n",
    "for name in doc._.person_name:\n",
    "  print(f\"Name found : {name.text} | Start and End : {name.start, name.end}\")\n",
    "\n",
    "for ent in doc.ents:\n",
    "  print(f\"Entity Found : {ent.text} : {ent.label_}\")"
   ]
  },
  {
   "cell_type": "code",
   "execution_count": null,
   "metadata": {},
   "outputs": [],
   "source": [
    "doc = nlp(\"في 9 مايو 2006 , تم افتتاح ملعب جديد في مدينة ريال مدريد الرياضية وتم تسميته بأحد أهم اللاعبين الذي سطروا أسمائهم بأحرف من ذهب في تاريخ ريال مدريد وهو ألفريدو دي ستيفانو .\")\n",
    "for name in doc._.person_name:\n",
    "  print(f\"Name found : {name.text} | Start and End : {name.start, name.end}\")\n",
    "\n",
    "for ent in doc.ents:\n",
    "  print(f\"Entity Found : {ent.text} : {ent.label_}\")"
   ]
  },
  {
   "cell_type": "code",
   "execution_count": null,
   "metadata": {},
   "outputs": [],
   "source": [
    "%timeit doc = nlp(\"My name is Ketaki S.R Ambadkar\"); doc.ents"
   ]
  },
  {
   "cell_type": "code",
   "execution_count": null,
   "metadata": {},
   "outputs": [],
   "source": [
    "%timeit doc = nlp(\"في 9 مايو 2006 , تم افتتاح ملعب جديد في مدينة ريال مدريد الرياضية وتم تسميته بأحد أهم اللاعبين الذي سطروا أسمائهم بأحرف من ذهب في تاريخ ريال مدريد وهو ألفريدو دي ستيفانو .\"); doc.ents"
   ]
  },
  {
   "cell_type": "code",
   "execution_count": null,
   "metadata": {},
   "outputs": [],
   "source": [
    "#@title Name\n",
    "\n",
    "text = \"Hi , I my name is Meghana S.R Bhange, I want to book an appointment for Ketaki and also Dr. S Kumar\" #@param {type:\"string\"}\n",
    "\n",
    "\n",
    "from spacy import displacy\n",
    "doc = nlp(text)\n",
    "ents = [\n",
    "        {\n",
    "            \"start\":doc.text.find(name.text),\n",
    "            \"end\" : doc.text.find(name.text)+len(name.text),\n",
    "            \"label\": name.label_\n",
    "        }\n",
    "        for name in doc._.person_name\n",
    "        ]\n",
    "ex = [{\"text\": doc.text,\n",
    "       \"ents\": ents,\n",
    "       \"title\": \"Denomme : Name Detection\"}]\n",
    "displacy.render(ex, style=\"ent\", manual=True, jupyter=True)"
   ]
  },
  {
   "cell_type": "code",
   "execution_count": null,
   "metadata": {},
   "outputs": [],
   "source": [
    ""
   ]
  }
 ],
 "metadata": {
  "kernelspec": {
   "display_name": "Python 3",
   "name": "python3"
  }
 },
 "nbformat": 4,
 "nbformat_minor": 0
}
