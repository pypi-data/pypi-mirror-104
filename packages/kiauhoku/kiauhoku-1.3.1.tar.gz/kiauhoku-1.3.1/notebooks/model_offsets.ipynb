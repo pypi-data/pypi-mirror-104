{
  "nbformat": 4,
  "nbformat_minor": 0,
  "metadata": {
    "colab": {
      "name": "kiauhoku_model_offsets",
      "provenance": [],
      "collapsed_sections": [],
      "toc_visible": true
    },
    "kernelspec": {
      "name": "python3",
      "display_name": "Python 3"
    }
  },
  "cells": [
    {
      "cell_type": "markdown",
      "metadata": {
        "id": "KV8fyBWeY505"
      },
      "source": [
        "# **Kīauhōkū Model Offsets**\n",
        "## This notebook is a tutorial on estimating the systematic uncertainties associated with various stellar model grids, as illustrated in Jamie Tayar et al. submitted 2020.\n",
        "## The notebook is read-only. You can make changes, but they will not save unless you make your own copy. (So don't worry about messing it up for others!)\n",
        "\n",
        "#### **Contact:**\n",
        "- Jamie Tayar (jtayar@hawaii.edu) for information regarding the stellar model grids\n",
        "- Zach Claytor (zclaytor@hawaii.edu) for information regarding kīauhōkū and detailed workings/upkeep of this notebook\n",
        "\n",
        "#### **Resources:**\n",
        "- kīauhōkū: https://github.com/zclaytor/kiauhoku\n",
        "- models: https://zenodo.org/record/4307955"
      ]
    },
    {
      "cell_type": "markdown",
      "metadata": {
        "id": "Go5h4CVBF7rc"
      },
      "source": [
        "## First download and untar the model grids from Zenodo:"
      ]
    },
    {
      "cell_type": "code",
      "metadata": {
        "id": "JjJ-UfXAF-Nq"
      },
      "source": [
        "!wget https://zenodo.org/record/4307955/files/eep_grids.tar.gz\n",
        "!tar -xzvf eep_grids.tar.gz"
      ],
      "execution_count": null,
      "outputs": []
    },
    {
      "cell_type": "markdown",
      "metadata": {
        "id": "Z4LlJQdYGVmy"
      },
      "source": [
        "## Next, install kiauhoku"
      ]
    },
    {
      "cell_type": "code",
      "metadata": {
        "id": "3SKOOdQYGO4N"
      },
      "source": [
        "!pip install kiauhoku"
      ],
      "execution_count": null,
      "outputs": []
    },
    {
      "cell_type": "code",
      "metadata": {
        "id": "GiCmfgbMGsGr"
      },
      "source": [
        "import numpy as np\n",
        "import pandas as pd\n",
        "import kiauhoku as kh"
      ],
      "execution_count": null,
      "outputs": []
    },
    {
      "cell_type": "markdown",
      "metadata": {
        "id": "D1QMgQEyDpdt"
      },
      "source": [
        "## Load grids, unify column names, and cast to interpolators"
      ]
    },
    {
      "cell_type": "code",
      "metadata": {
        "id": "II9r-EhvG2HM"
      },
      "source": [
        "# use grid points between ZAMS and RGBump\n",
        "yrec = kh.stargrid.from_parquet(path='eep_grids/yrec.pqt').query('201 <= eep <= 605')\n",
        "mist = kh.stargrid.from_parquet(path='eep_grids/mist.pqt').query('0.5 <= initial_mass <= 2 and 201 <= eep <= 605')\n",
        "dart = kh.stargrid.from_parquet(path='eep_grids/dartmouth.pqt').query('201 <= eep <= 605')\n",
        "gars = kh.stargrid.from_parquet(path='eep_grids/garstec.pqt').query('201 <= eep <= 605')"
      ],
      "execution_count": null,
      "outputs": []
    },
    {
      "cell_type": "code",
      "metadata": {
        "id": "hzZ2rZi6HIIr"
      },
      "source": [
        "# unify column names\n",
        "yrec['mass'] = yrec['Mass(Msun)']\n",
        "yrec['teff'] = 10**yrec['Log Teff(K)']\n",
        "yrec['lum'] = 10**yrec['L/Lsun']\n",
        "yrec['met'] = np.log10(yrec['Zsurf']/yrec['Xsurf']/0.0253)\n",
        "yrec['age'] = yrec['Age(Gyr)']\n",
        "\n",
        "mist['mass'] = mist['star_mass']\n",
        "mist['teff'] = 10**mist['log_Teff']\n",
        "mist['lum'] = 10**mist['log_L']\n",
        "mist['met'] = mist['log_surf_z'] - np.log10(mist['surface_h1']*0.0173)\n",
        "mist['logg'] = mist['log_g']\n",
        "mist['age'] = mist['star_age'] / 1e9\n",
        "\n",
        "dart['mass'] = dart.index.to_frame()['initial_mass']\n",
        "dart['teff'] = 10**dart['Log T']\n",
        "dart['lum'] = 10**dart['Log L']\n",
        "dart['met'] = np.log10(dart['(Z/X)_surf']/0.0229)\n",
        "dart['logg'] = dart['Log g']\n",
        "dart['age'] = dart['Age (yrs)'] / 1e9\n",
        "\n",
        "gars['mass'] = gars['M/Msun']\n",
        "gars['teff'] = gars['Teff']\n",
        "gars['lum'] = 10**gars['Log L/Lsun']\n",
        "gars['met'] = np.log10(gars['Zsurf']/gars['Xsurf']/0.0245)\n",
        "gars['age'] = gars['Age(Myr)'] / 1e3\n",
        "\n",
        "yrec_interp = yrec.to_interpolator()\n",
        "mist_interp = mist.to_interpolator()\n",
        "dart_interp = dart.to_interpolator()\n",
        "gars_interp = gars.to_interpolator()"
      ],
      "execution_count": null,
      "outputs": []
    },
    {
      "cell_type": "markdown",
      "metadata": {
        "id": "gDNR2xtHD0-S"
      },
      "source": [
        "## Define fitting function\n",
        "##### This may get directly implemented into kiauhoku in the near future."
      ]
    },
    {
      "cell_type": "code",
      "metadata": {
        "id": "LfO-zALRHKIJ"
      },
      "source": [
        "def gridsearch_fit(star, gridname, tol=1e-6, scale=(1000, 1, 0.1),\n",
        "                   mass_step=0.1, met_step=0.2, eep_step=50):\n",
        "    if gridname == 'yrec':\n",
        "        grid = yrec\n",
        "        interp = yrec_interp\n",
        "    elif gridname == 'mist':\n",
        "        grid = mist\n",
        "        interp = mist_interp\n",
        "    elif gridname == 'dartmouth':\n",
        "        grid = dart\n",
        "        interp = dart_interp\n",
        "    elif gridname == 'garstec':\n",
        "        grid = gars\n",
        "        interp = gars_interp\n",
        "    else:\n",
        "        raise ValueError(f\"Bad grid name: '{gridname}'\")\n",
        "\n",
        "    print(f'Fitting star with {gridname}...')\n",
        "\n",
        "    # Construct a multi-index instead of using a triple-nested for-loop\n",
        "    idxrange = grid.index_range\n",
        "    mass_list = np.arange(*idxrange['initial_mass'], mass_step)\n",
        "    met_list = np.arange(*idxrange['initial_met'], met_step)\n",
        "    eep_list = np.arange(252, 606, eep_step)\n",
        "    idx_list = pd.MultiIndex.from_product(\n",
        "        [mass_list, met_list, eep_list])\n",
        "    \n",
        "    # Loop through indices searching for fit\n",
        "    best_loss = 100\n",
        "    some_fit = False\n",
        "    good_fit = False\n",
        "    for idx in idx_list:\n",
        "        model, fit = interp.fit_star(star, idx, \n",
        "            None,  # Nelder-Mead does not accept bounds\n",
        "            scale, # Scale input to put them ~ the same magnitude\n",
        "            method='Nelder-Mead')\n",
        "        if fit.success:\n",
        "            some_fit = True\n",
        "            if fit.fun < best_loss:\n",
        "                best_model = model\n",
        "                best_fit = fit\n",
        "                best_loss = fit.fun\n",
        "                if fit.fun <= tol:\n",
        "                    good_fit = True\n",
        "                    print(f'{gridname}: success!')\n",
        "                    break\n",
        "\n",
        "    # Check to see how the fit did, print comments if necessary.\n",
        "    if not some_fit:\n",
        "        print(f'*!*!*!* {gridname} fit failed! Returning last attempt.')\n",
        "        return None, fit\n",
        "    if not good_fit:\n",
        "        print(f'{gridname}: Fit not converged to within tolerance, but returning closest fit.')\n",
        "\n",
        "    # add the indices and return\n",
        "    m, z, e = best_fit.x\n",
        "    best_model['initial_mass'] = m\n",
        "    best_model['initial_met'] = z\n",
        "    best_model['eep'] = e\n",
        "    return best_model, best_fit\n",
        "\n",
        "\n",
        "def fit_all_grids(star, *args, **kwargs):\n",
        "    gridnames = []\n",
        "    models = []\n",
        "    for grid in ['yrec', 'mist', 'dartmouth', 'garstec']:\n",
        "        model, fit = gridsearch_fit(star, grid, *args, **kwargs)\n",
        "        if fit.success:\n",
        "            gridnames.append(grid)\n",
        "            models.append(\n",
        "                model[['initial_mass', 'initial_met', 'eep', 'mass', 'teff', 'lum', 'met', 'logg', 'age']]\n",
        "            )\n",
        "    models = pd.concat(models, axis=1)\n",
        "    models.columns = gridnames\n",
        "\n",
        "    return models\n",
        "\n",
        "def compute_statistics(models, exclude=None):\n",
        "    stats = models.copy()\n",
        "    if exclude is not None:\n",
        "        stats = stats.drop(columns=exclude)\n",
        "\n",
        "    mean = stats.mean(axis=1)\n",
        "    stdev = stats.std(axis=1, ddof=1)\n",
        "    max_offset = stats.max(axis=1) - stats.min(axis=1)\n",
        "\n",
        "    stats['mean'] = mean\n",
        "    stats['stdev'] = stdev\n",
        "    stats['max offset'] = max_offset\n",
        "\n",
        "    return stats"
      ],
      "execution_count": null,
      "outputs": []
    },
    {
      "cell_type": "markdown",
      "metadata": {
        "id": "SS-e7SoSD-8o"
      },
      "source": [
        "## Define stellar examples and run!"
      ]
    },
    {
      "cell_type": "markdown",
      "metadata": {
        "id": "871aISpXVnGf"
      },
      "source": [
        "### $\\pi$ Men"
      ]
    },
    {
      "cell_type": "code",
      "metadata": {
        "id": "jeacdU5jVXyR"
      },
      "source": [
        "piMen  = {'teff':6037, 'lum':1.444, 'met':0.08}\n",
        "models = fit_all_grids(piMen, scale=(1000, 1, 0.1), tol=1e-6)\n",
        "models"
      ],
      "execution_count": null,
      "outputs": []
    },
    {
      "cell_type": "code",
      "metadata": {
        "id": "nW20rpGHS5Rj"
      },
      "source": [
        "stats = compute_statistics(models, exclude=None)\n",
        "stats"
      ],
      "execution_count": null,
      "outputs": []
    },
    {
      "cell_type": "markdown",
      "metadata": {
        "id": "SGP_WVI1VspC"
      },
      "source": [
        "### TOI 197"
      ]
    },
    {
      "cell_type": "code",
      "metadata": {
        "id": "gDU0Zu4QVvVl"
      },
      "source": [
        "toi197 = {'teff':5080, 'lum':5.15, 'met':-0.08}\n",
        "models = fit_all_grids(toi197, scale=(1000, 1, 0.1), tol=1e-6)\n",
        "models"
      ],
      "execution_count": null,
      "outputs": []
    },
    {
      "cell_type": "code",
      "metadata": {
        "id": "KauZVdGVV4Sv"
      },
      "source": [
        "stats = compute_statistics(models, exclude=None)\n",
        "stats"
      ],
      "execution_count": null,
      "outputs": []
    },
    {
      "cell_type": "markdown",
      "metadata": {
        "id": "SL9JhdTFX_7G"
      },
      "source": [
        "### Sun, using Teff and Luminosity"
      ]
    },
    {
      "cell_type": "code",
      "metadata": {
        "id": "IO1UrX-XYGzB"
      },
      "source": [
        "sun1 = {'teff':5772, 'lum':1, 'met':0}\n",
        "models = fit_all_grids(sun1, scale=(1000, 1, 0.1), tol=1e-6)\n",
        "models"
      ],
      "execution_count": null,
      "outputs": []
    },
    {
      "cell_type": "code",
      "metadata": {
        "id": "MTi6slkTYQxn"
      },
      "source": [
        "stats = compute_statistics(models, exclude=None)\n",
        "stats"
      ],
      "execution_count": null,
      "outputs": []
    },
    {
      "cell_type": "markdown",
      "metadata": {
        "id": "gj25RGeOaz2g"
      },
      "source": [
        "### Sun, using Teff logg"
      ]
    },
    {
      "cell_type": "code",
      "metadata": {
        "id": "cLM_QbFVa3Uy"
      },
      "source": [
        "sun2 = {'teff':5772, 'logg':4.44, 'met':0}\n",
        "models = fit_all_grids(sun2, scale=(1000, 1, 0.1), tol=1e-6)\n",
        "models"
      ],
      "execution_count": null,
      "outputs": []
    },
    {
      "cell_type": "code",
      "metadata": {
        "id": "A_9jFIx7botX"
      },
      "source": [
        "stats = compute_statistics(models, exclude=None)\n",
        "stats"
      ],
      "execution_count": null,
      "outputs": []
    },
    {
      "cell_type": "markdown",
      "metadata": {
        "id": "bZn-5SjKYTGw"
      },
      "source": [
        "### Sun, using Mass and Age"
      ]
    },
    {
      "cell_type": "code",
      "metadata": {
        "id": "n48CfFpiYWAN"
      },
      "source": [
        "sun3 = {'age': 4.57, 'mass':1, 'met':0}\n",
        "models = fit_all_grids(sun3, scale=(1, 0.1, 0.1), tol=1e-6)\n",
        "models"
      ],
      "execution_count": null,
      "outputs": []
    },
    {
      "cell_type": "code",
      "metadata": {
        "id": "oII99__RYdkX"
      },
      "source": [
        "stats = compute_statistics(models, exclude=None)\n",
        "stats"
      ],
      "execution_count": null,
      "outputs": []
    }
  ]
}